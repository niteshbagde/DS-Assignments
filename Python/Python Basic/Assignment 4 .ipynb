{
 "cells": [
  {
   "cell_type": "code",
   "execution_count": 2,
   "metadata": {},
   "outputs": [
    {
     "data": {
      "text/plain": [
       "list"
      ]
     },
     "execution_count": 2,
     "metadata": {},
     "output_type": "execute_result"
    }
   ],
   "source": [
    "# 1. What exactly is []?\n",
    "# Ans : Pythone interprete [] as an empty list.\n",
    "type([])"
   ]
  },
  {
   "cell_type": "code",
   "execution_count": 3,
   "metadata": {},
   "outputs": [
    {
     "name": "stdout",
     "output_type": "stream",
     "text": [
      "[2, 4, 'hello', 8, 10]\n"
     ]
    }
   ],
   "source": [
    "'''\n",
    "2. In a list of values stored in a variable called spam, how would you assign the value 'hello' as the third value? (Assume [2, 4, 6, 8, 10] are in spam.)\n",
    "'''\n",
    "spam = [2, 4, 6, 8, 10]\n",
    "# to assign \"hello\" on index location 3\n",
    "# index start from 0 in python\n",
    "spam[2] = 'hello'\n",
    "print(spam)\n"
   ]
  },
  {
   "cell_type": "code",
   "execution_count": 4,
   "metadata": {},
   "outputs": [],
   "source": [
    "'''\n",
    "Let's pretend the spam includes the list ['a', 'b', 'c', 'd'] for the next three queries.\n",
    "3. What is the value of spam[int(int('3' * 2) / 11)]?\n",
    "4. What is the value of spam[-1]?\n",
    "5. What is the value of spam[:2]?\n",
    "'''\n",
    "spam = ['a', 'b', 'c', 'd']"
   ]
  },
  {
   "cell_type": "code",
   "execution_count": 5,
   "metadata": {},
   "outputs": [
    {
     "data": {
      "text/plain": [
       "'d'"
      ]
     },
     "execution_count": 5,
     "metadata": {},
     "output_type": "execute_result"
    }
   ],
   "source": [
    "# Ans 3 : d\n",
    "spam[int(int('3' * 2) / 11)]\n",
    "\n",
    "\"\"\"\n",
    "Break down : string \"3\" when multplied with 2 it will give 33 and them the conversion is made to integer data type.\n",
    "33/11 = 3\n",
    "spam[3] -> d\n",
    "\"\"\"\n"
   ]
  },
  {
   "cell_type": "code",
   "execution_count": 9,
   "metadata": {},
   "outputs": [],
   "source": [
    "# Ans 4 : As per negative indexing the value will be \"d\"\n",
    "spam[-1]"
   ]
  },
  {
   "cell_type": "code",
   "execution_count": 8,
   "metadata": {},
   "outputs": [
    {
     "data": {
      "text/plain": [
       "['a', 'b']"
      ]
     },
     "execution_count": 8,
     "metadata": {},
     "output_type": "execute_result"
    }
   ],
   "source": [
    "# Ans 5 : This will returns all elements from index 0 to 2 - > ['a', 'b']\n",
    "spam[:2]"
   ]
  },
  {
   "cell_type": "code",
   "execution_count": 25,
   "metadata": {},
   "outputs": [],
   "source": [
    "\"\"\"\n",
    "Let's pretend bacon has the list [3.14, 'cat,' 11, 'cat,' True] for the next three questions.\n",
    "6. What is the value of bacon.index('cat')?\n",
    "7. How does bacon.append(99) change the look of the list value in bacon?\n",
    "8. How does bacon.remove('cat') change the look of the list in bacon?\n",
    "\"\"\"\n",
    "bacon = [3.14, 'cat', 11, 'cat', True]"
   ]
  },
  {
   "cell_type": "code",
   "execution_count": 26,
   "metadata": {},
   "outputs": [
    {
     "name": "stdout",
     "output_type": "stream",
     "text": [
      "1\n"
     ]
    }
   ],
   "source": [
    "# Ans 6 : The index is a function will allow us to get the index position for any value from list when called. The \"cat\" is at index position 1 and 3. Index at first occurence is returned.\n",
    "\n",
    "print(bacon.index('cat'))"
   ]
  },
  {
   "cell_type": "code",
   "execution_count": 27,
   "metadata": {},
   "outputs": [
    {
     "name": "stdout",
     "output_type": "stream",
     "text": [
      "[3.14, 'cat', 11, 'cat', True]\n",
      "[3.14, 'cat', 11, 'cat', True, 99]\n"
     ]
    }
   ],
   "source": [
    "# Ans 7 : The append function allows to add a single value in the list at a time. since the value 99 is passed to append function it will be added to the list at very end. when checked the value 99 can be observed at the last index location of the list.\n",
    "print(bacon)\n",
    "bacon.append(99)\n",
    "print(bacon)"
   ]
  },
  {
   "cell_type": "code",
   "execution_count": 28,
   "metadata": {},
   "outputs": [
    {
     "name": "stdout",
     "output_type": "stream",
     "text": [
      "[3.14, 'cat', 11, 'cat', True, 99]\n",
      "[3.14, 11, 'cat', True, 99]\n"
     ]
    }
   ],
   "source": [
    "# Ans 8 : The remove function allows to remove the elements from list. The first occurance of value is removed from the list at a time.\n",
    "\n",
    "print(bacon)\n",
    "bacon.remove('cat')\n",
    "print(bacon)\n"
   ]
  },
  {
   "cell_type": "code",
   "execution_count": 34,
   "metadata": {},
   "outputs": [
    {
     "name": "stdout",
     "output_type": "stream",
     "text": [
      "[1, 2, 3, 4, 5, 1, 2, 3, 4, 5]\n",
      "[1, 2, 3, 4, 5, 1, 2, 3, 4, 5, 1, 2, 3, 4, 5, 1, 2, 3, 4, 5]\n"
     ]
    }
   ],
   "source": [
    "# 9. What are the list concatenation and list replication operators?\n",
    "\"\"\" \n",
    "Ans : \n",
    "List concatenation opeartors: we can join 2 or more list togather by using + symbol\n",
    "List replication operators: we can replicate or multiply the elements in list by using * symbol\n",
    "\"\"\"\n",
    "\n",
    "l1 = [1,2,3,4,5]\n",
    "print(l1+l1) # List concatenation opeartor\n",
    "print(l1*4) # List replication operator"
   ]
  },
  {
   "cell_type": "code",
   "execution_count": 46,
   "metadata": {},
   "outputs": [
    {
     "name": "stdout",
     "output_type": "stream",
     "text": [
      "[1, 2, 3, 4, 5, 666]\n",
      "[1, 777, 2, 3, 4, 5, 666]\n"
     ]
    }
   ],
   "source": [
    "# 10. What is difference between the list methods append() and insert()?\n",
    "\n",
    "\"\"\"\n",
    "Ans : \n",
    "\n",
    "Method append() is used to add element at very end at a time.\n",
    "Method insert() allows to define index value to update it inside the list at a time.\n",
    "\n",
    "\"\"\"\n",
    "l1 = [1,2,3,4,5]\n",
    "l1.append(666) # element 666 added at very end of the list\n",
    "print(l1)\n",
    "l1.insert(1,777) # element 777 added at index position 1\n",
    "print(l1)"
   ]
  },
  {
   "cell_type": "code",
   "execution_count": 15,
   "metadata": {},
   "outputs": [
    {
     "name": "stdout",
     "output_type": "stream",
     "text": [
      "[1, 777, 2, 3, 4, 5]\n",
      "[1, 2, 3, 4, 5]\n",
      "[2, 3, 4, 5]\n"
     ]
    }
   ],
   "source": [
    "# 11. What are the two methods for removing items from a list?\n",
    "\"\"\" \n",
    "Ans : The two methods for removing are :\n",
    "\n",
    "pop() - Allows to remove item from list at index location. Or by default last element in list will be removed\n",
    "\n",
    "remove() - Allows to remove item from list by defining the items itself from the list.\n",
    "\n",
    "del() - Allows to remove items form list by calling the liste with its index value.\n",
    "\n",
    "\"\"\"\n",
    "l1 = [1, 777, 2, 3, 4, 5, 666]\n",
    "l1.pop(-1)\n",
    "print(l1)\n",
    "l1.remove(777)\n",
    "print(l1)\n",
    "del(l1[0])\n",
    "print(l1)"
   ]
  },
  {
   "cell_type": "code",
   "execution_count": 67,
   "metadata": {},
   "outputs": [
    {
     "name": "stdout",
     "output_type": "stream",
     "text": [
      "INEURON\n",
      "-------------------------------\n",
      "['i', 'n', 'e', 'u', 'r', 'o', 'n']\n",
      "-------------------------------\n",
      "I\n",
      "N\n",
      "E\n",
      "U\n",
      "R\n",
      "O\n",
      "N\n",
      "-------------------------------\n",
      "i\n",
      "n\n",
      "e\n",
      "u\n",
      "r\n",
      "o\n",
      "n\n"
     ]
    }
   ],
   "source": [
    "# 12. Describe how list values and string values are identical.\n",
    "\n",
    "\"\"\"\n",
    "Ans:\n",
    "The list and string elements can be called and used by index properly. Basically we can operate them using index values. we can implement function like len() on bothe the same way. We can work with loops on string and list the same way.\n",
    "\n",
    "A string's length is the number of characters in the string & a list's length is the number of items in the list. Each character in a string as well as each item in a list has a position, also called an index\n",
    "\n",
    "\"\"\"\n",
    "a = \"INEURON\"\n",
    "b = [\"i\", \"n\", \"e\", \"u\", \"r\", \"o\", \"n\"]\n",
    "\n",
    "print(a[0:7])\n",
    "print(\"-------------------------------\") \n",
    "print(b[0:7])\n",
    "print(\"-------------------------------\") \n",
    "for i in a:\n",
    "    print(i)\n",
    "print(\"-------------------------------\")    \n",
    "for i in b:\n",
    "    print(i)\n",
    "\n",
    "\n",
    "\n"
   ]
  },
  {
   "cell_type": "code",
   "execution_count": null,
   "metadata": {},
   "outputs": [],
   "source": [
    "# 13. What's the difference between tuples and lists?\n",
    "\"\"\"\n",
    "\n",
    "Ans:\n",
    "\n",
    "The major differance is that list are mutable while tuple are immutable. Meaning that we can edit and update list items as per requirments while the tuples will have items which can be accessed but can not be edited.\n",
    "\n",
    "We can initialize list by using list() or []. Where as for tupel it is tupel() or ()\n",
    "\n",
    "\"\"\"\n"
   ]
  },
  {
   "cell_type": "code",
   "execution_count": 22,
   "metadata": {},
   "outputs": [
    {
     "name": "stdout",
     "output_type": "stream",
     "text": [
      "<class 'tuple'>\n",
      "<class 'int'>\n"
     ]
    }
   ],
   "source": [
    "# 14. How do you type a tuple value that only contains the integer 42?\n",
    "# Ans : (42,) comma is mandatory to make python interpreter understand tupel data type or else it will consider it as int by default.\n",
    "\n",
    "\n",
    "print(type(42))\n",
    "\n",
    "print(type((42,)))\n",
    "\n"
   ]
  },
  {
   "cell_type": "code",
   "execution_count": 29,
   "metadata": {},
   "outputs": [
    {
     "name": "stdout",
     "output_type": "stream",
     "text": [
      "<class 'list'>\n",
      "converting to tuple : (1, 2, 3, 4, 5)\n",
      "---------------------------\n",
      "<class 'tuple'>\n",
      "converting to list : [1, 2, 3, 4, 5]\n"
     ]
    }
   ],
   "source": [
    "# 15. How do you get a list value's tuple form? How do you get a tuple value's list form?\n",
    "# Ans : we can convert the data types by using the required datatypes conversion functions like tuple() and list() functions. example :\n",
    "\n",
    "a = [1, 2, 3, 4, 5]\n",
    "print(type(a))\n",
    "print(f\"converting to tuple : {tuple(a)}\")\n",
    "print(\"---------------------------\")\n",
    "a = (1, 2, 3, 4, 5)\n",
    "print(type(a))\n",
    "print(f\"converting to list : {list(a)}\")\n",
    "\n",
    "\n"
   ]
  },
  {
   "cell_type": "code",
   "execution_count": null,
   "metadata": {},
   "outputs": [],
   "source": [
    "# 16. Variables that \"contain\" list values are not necessarily lists themselves. Instead, what do they contain?\n",
    "\n",
    "# Ans : Instead they contain references to list values.\n",
    "\n",
    "\n"
   ]
  },
  {
   "cell_type": "code",
   "execution_count": 65,
   "metadata": {},
   "outputs": [
    {
     "name": "stdout",
     "output_type": "stream",
     "text": [
      "[5, 42, [33, 75], [25, 35]]\n",
      "[5, 42, [65, 75], [25, 35]]\n",
      "----------------------------------------\n",
      "[5, 42, [33, 75], [25, 35]]\n",
      "[5, 42, [33, 75], [25, 35]]\n"
     ]
    }
   ],
   "source": [
    "# 17. How do you distinguish between copy.copy() and copy.deepcopy()?\n",
    "\n",
    "\"\"\"\"\n",
    "Ans :\n",
    "The function copy.copy() is used to do a shallow copy of list. It basically craete copy of the object. If any changes are made to copied object the same changes will be reflected on to the orignal.\n",
    "\n",
    "where as copy.deepcopy() is used to deep copy of a list. This will creates new object and will perform copying of original object to new one.That will not affect the orignal if any chanegs with duplicate copies are made.\n",
    "\"\"\"\n",
    "\n",
    "import copy\n",
    "a = [5, 42, [33,75], [25,35]]\n",
    "b = copy.copy(a)\n",
    "print(a)\n",
    "b[2][0] = 65\n",
    "print(a)\n",
    "\n",
    "print(\"----------------------------------------\")\n",
    "\n",
    "a = [5, 42, [33,75], [25,35]]\n",
    "c = copy.deepcopy(a)\n",
    "print(a)\n",
    "c[2][0] = 65\n",
    "print(a)\n",
    "\n"
   ]
  }
 ],
 "metadata": {
  "kernelspec": {
   "display_name": "Python 3.9.12 ('base')",
   "language": "python",
   "name": "python3"
  },
  "language_info": {
   "codemirror_mode": {
    "name": "ipython",
    "version": 3
   },
   "file_extension": ".py",
   "mimetype": "text/x-python",
   "name": "python",
   "nbconvert_exporter": "python",
   "pygments_lexer": "ipython3",
   "version": "3.9.12"
  },
  "orig_nbformat": 4,
  "vscode": {
   "interpreter": {
    "hash": "ec8ce567f215544ef5385698679ad00f7108804f072be75f9d6841a4394852e3"
   }
  }
 },
 "nbformat": 4,
 "nbformat_minor": 2
}
