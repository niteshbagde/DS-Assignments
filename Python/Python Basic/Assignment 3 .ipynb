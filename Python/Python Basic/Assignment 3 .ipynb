{
 "cells": [
  {
   "cell_type": "code",
   "execution_count": 13,
   "metadata": {},
   "outputs": [
    {
     "name": "stdout",
     "output_type": "stream",
     "text": [
      "lets convert your temp to fahrenheit \n",
      "\n",
      "Your temperate in fahrenheit is : 96.8\n"
     ]
    }
   ],
   "source": [
    "# 1. Why are functions advantageous to have in your programs?\n",
    "\n",
    "\"\"\"\n",
    "Ans: \n",
    "\n",
    "Function gives us the ability of reusability. We can call the functionality in other code blocks if have a function defined to execute the requirements and needs. Lets say a function was defined for calculating addition of 2 varailble and later in other section of my compiled code i want to perform same operation I can then call back the same function to satify the need rather than rewritting the code again and again. \n",
    "\n",
    "(0°C x 9/5) + 32 = 32°F\n",
    "\n",
    "\n",
    "\"\"\"\n",
    "def ToFar(d) -> int:\n",
    "    \"\"\"Call me when you want to convert degree to fahrenheit\"\"\"\n",
    "    return ((d*(9/5))+32)\n",
    "\n",
    "def pat() -> int:\n",
    "    \"\"\" another function to call previous function output and use it \"\"\"\n",
    "    print(\"lets convert your temp to fahrenheit \\n\")\n",
    "    a = int(input(\"input your temp in degree: \"))\n",
    "    if a>=0:\n",
    "        print(f\"Your temperate in fahrenheit is : {ToFar(a)}\")\n",
    "\n",
    "pat()\n"
   ]
  },
  {
   "cell_type": "code",
   "execution_count": 2,
   "metadata": {},
   "outputs": [],
   "source": [
    "# 2. When does the code in a function run: when it's specified or when it's called?\n",
    "\n",
    "\"\"\" \n",
    "Ans:\n",
    "\n",
    "The code inside a function can be executed when we call the function whenever required. Basically it is called to get its expected output.\n",
    "\n",
    "\"\"\""
   ]
  },
  {
   "cell_type": "code",
   "execution_count": null,
   "metadata": {},
   "outputs": [],
   "source": [
    "# 3. What statement creates a function?\n",
    "\n",
    "\"\"\"\n",
    "Ans :\n",
    "\n",
    "The \"def\" statement is used to initiate a function. We need to define the name of function then after and provide round brackets \"()\" for defining any parameters to pass in to the function code block. And at last we need to close it with semicolon \":\"\n",
    "\n",
    "\"\"\"\n",
    "\n",
    "def IamFunc(a):\n",
    "    a = \"I am a function\"\n",
    "    print(a)"
   ]
  },
  {
   "cell_type": "code",
   "execution_count": null,
   "metadata": {},
   "outputs": [],
   "source": [
    "# 4. What is the difference between a function and a function call?\n",
    "\n",
    "\"\"\"\n",
    "Ans :\n",
    "\n",
    "Function : A function is a group of codeblock containing statements that performs a specific task or operations.\n",
    "ex- \n",
    "def myadd(a,b):\n",
    "    return a+b\n",
    "\n",
    "Function call :\n",
    "where in function call is used to call defined function to execute those codeblock inside it.\n",
    "ex- \n",
    "myadd(2,3)\n",
    "\n",
    "\"\"\""
   ]
  },
  {
   "cell_type": "code",
   "execution_count": null,
   "metadata": {},
   "outputs": [],
   "source": [
    "# 5. How many global scopes are there in a Python program? How many local scopes?\n",
    "\n",
    "\"\"\"\n",
    "Ans :\n",
    "\n",
    "Global scope is one and local scope is created at function call.\n",
    "\n",
    "---------------------------------------------------\n",
    "\n",
    "In Python, there are four types of scopes - Global Scope, Local Scope, Enclosing Scope & builtin scope. \n",
    "\n",
    "A variable created in the main body of the Python code is a global variable and belongs to the global scope.\n",
    "\n",
    "The local scope / function scope is a Python scope created at function calls so it can be created in any number.\n",
    "\n",
    "\n",
    "\"\"\""
   ]
  },
  {
   "cell_type": "code",
   "execution_count": null,
   "metadata": {},
   "outputs": [],
   "source": [
    "# 6. What happens to variables in a local scope when the function call returns?\n",
    "\n",
    "\"\"\"\n",
    "Ans :\n",
    "\n",
    "The local scope is destroyed when the function call is returend or terminited.\n",
    "\n",
    "\n",
    "\"\"\""
   ]
  },
  {
   "cell_type": "code",
   "execution_count": null,
   "metadata": {},
   "outputs": [],
   "source": [
    "\n",
    "# 7. What is the concept of a return value? Is it possible to have a return value in an expression?\n",
    "\n",
    "\"\"\"\n",
    "Ans :\n",
    "The return statement is a component of functions which is use to end Python objects back to the caller code. These objects are known as the function's return value. We can use return value as a part of an expression.\n",
    "\n",
    "\"\"\"\n"
   ]
  },
  {
   "cell_type": "code",
   "execution_count": null,
   "metadata": {},
   "outputs": [],
   "source": [
    "# 8. If a function does not have a return statement, what is the return value of a call to that function?\n",
    "\n",
    "# Ans :  If no return statement is used in function its return value will be none."
   ]
  },
  {
   "cell_type": "code",
   "execution_count": null,
   "metadata": {},
   "outputs": [],
   "source": [
    "# 9. How do you make a function variable refer to the global variable?\n",
    "\n",
    "\"\"\" \n",
    "Ans: \n",
    "\n",
    "A variable cretated inside a function is local, and it can only be used inside that function. To create a global variable inside a function, you can use the \"global\" keyword.\n",
    "\n",
    "\"\"\""
   ]
  },
  {
   "cell_type": "code",
   "execution_count": null,
   "metadata": {},
   "outputs": [],
   "source": [
    "# 10. What is the data type of None?\n",
    "\n",
    "#  Ans : The data type of None is `NoneType`\n"
   ]
  },
  {
   "cell_type": "code",
   "execution_count": null,
   "metadata": {},
   "outputs": [],
   "source": [
    "# 11. What does the sentence import areallyourpetsnamederic do?\n",
    "\n",
    "# Ans : It should allou you to import module having name \"areallyourpetsnamederic\"\n",
    "# like : \n",
    "import os\n"
   ]
  },
  {
   "cell_type": "code",
   "execution_count": null,
   "metadata": {},
   "outputs": [],
   "source": [
    "# 12. If you had a bacon() feature in a spam module, what would you call it after importing spam?\n",
    "\n",
    "# Ans : spam.becon() // from spam import becon"
   ]
  },
  {
   "cell_type": "code",
   "execution_count": null,
   "metadata": {},
   "outputs": [],
   "source": [
    "# 13. What can you do to save a programme from crashing if it encounters an error?\n",
    "''' \n",
    "Ans :\n",
    "There is \"try\" and \"except\" statements to handle exceptions\n",
    "we can Place the line of code that might cause an error in a `try` clause and use except `block` to handle the error. Python would process all code inside the try and except statement.\n",
    "'''"
   ]
  },
  {
   "cell_type": "code",
   "execution_count": 2,
   "metadata": {},
   "outputs": [
    {
     "name": "stdout",
     "output_type": "stream",
     "text": [
      "45\n",
      "None\n"
     ]
    }
   ],
   "source": [
    "# 14. What is the purpose of the try clause? What is the purpose of the except clause?\n",
    "\"\"\"\n",
    "Ans : \n",
    "\n",
    "If we have and code block which could cause an error we can use \"try\" statement to avoid the error.\n",
    "And if in case the error is encountered the code will be passed to the \"except\" block. \n",
    "\n",
    "\"\"\"\n",
    "\n",
    "def adnum(a, b):\n",
    "    try:\n",
    "        print(a + b)\n",
    "    except Exception as c:\n",
    "        return 'Error : ' + str(c)\n",
    "  \n",
    "print(adnum('', \"45\"))\n"
   ]
  },
  {
   "cell_type": "code",
   "execution_count": null,
   "metadata": {},
   "outputs": [],
   "source": []
  },
  {
   "cell_type": "code",
   "execution_count": null,
   "metadata": {},
   "outputs": [],
   "source": []
  }
 ],
 "metadata": {
  "kernelspec": {
   "display_name": "Python 3.9.12 ('base')",
   "language": "python",
   "name": "python3"
  },
  "language_info": {
   "codemirror_mode": {
    "name": "ipython",
    "version": 3
   },
   "file_extension": ".py",
   "mimetype": "text/x-python",
   "name": "python",
   "nbconvert_exporter": "python",
   "pygments_lexer": "ipython3",
   "version": "3.9.12"
  },
  "orig_nbformat": 4,
  "vscode": {
   "interpreter": {
    "hash": "ec8ce567f215544ef5385698679ad00f7108804f072be75f9d6841a4394852e3"
   }
  }
 },
 "nbformat": 4,
 "nbformat_minor": 2
}
