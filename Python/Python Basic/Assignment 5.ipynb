{
 "cells": [
  {
   "cell_type": "code",
   "execution_count": 1,
   "metadata": {},
   "outputs": [
    {
     "name": "stdout",
     "output_type": "stream",
     "text": [
      "{}\n"
     ]
    }
   ],
   "source": [
    "# 1. What does an empty dictionary's code look like?\n",
    "# Ans - The dictionary has the curly brackets to represent key and value pair as an elements in it. Empty dictionary will be represented as {}.\n",
    "mydictionary = dict()\n",
    "print(mydictionary)"
   ]
  },
  {
   "cell_type": "code",
   "execution_count": 3,
   "metadata": {},
   "outputs": [
    {
     "name": "stdout",
     "output_type": "stream",
     "text": [
      "42\n",
      "{'foo': 42}\n"
     ]
    }
   ],
   "source": [
    "# 2. What is the value of a dictionary value with the key 'foo' and the value 42?\n",
    "\n",
    "mydictionary = {\"foo\" : 42}\n",
    "# accesing the key to get value of a pair\n",
    "print(mydictionary[\"foo\"])\n",
    "\n",
    "# the dictionary\n",
    "print(mydictionary)\n"
   ]
  },
  {
   "cell_type": "code",
   "execution_count": null,
   "metadata": {},
   "outputs": [],
   "source": [
    "# 3. What is the most significant distinction between a dictionary and a list?\n",
    "\n",
    "\"\"\" \n",
    "Ans : We initialize list and dictonary as list() or [] & dict() or {}. \n",
    "The list contains items values with index locations (similar to that of array concept of C). \n",
    "Where as dictonary contains items in key and value pair and refered as hashed structure. \n",
    "\n",
    "\"\"\"\n",
    "a = [1,2,\"Three\", \"four\", 5.0]\n",
    "\n",
    "b = {\"one\":1, \"two\":2,\"three\":3 }\n"
   ]
  },
  {
   "cell_type": "code",
   "execution_count": 1,
   "metadata": {},
   "outputs": [
    {
     "ename": "KeyError",
     "evalue": "'foo'",
     "output_type": "error",
     "traceback": [
      "\u001b[1;31m---------------------------------------------------------------------------\u001b[0m",
      "\u001b[1;31mKeyError\u001b[0m                                  Traceback (most recent call last)",
      "\u001b[1;32md:\\ineuron\\actual assignments\\notebook file\\Assignment 5.ipynb Cell 5\u001b[0m in \u001b[0;36m<cell line: 7>\u001b[1;34m()\u001b[0m\n\u001b[0;32m      <a href='vscode-notebook-cell:/d%3A/ineuron/actual%20assignments/notebook%20file/Assignment%205.ipynb#W4sZmlsZQ%3D%3D?line=1'>2</a>\u001b[0m \u001b[39m\"\"\"\u001b[39;00m\n\u001b[0;32m      <a href='vscode-notebook-cell:/d%3A/ineuron/actual%20assignments/notebook%20file/Assignment%205.ipynb#W4sZmlsZQ%3D%3D?line=2'>3</a>\u001b[0m \u001b[39mAns : We will receive key error.\u001b[39;00m\n\u001b[0;32m      <a href='vscode-notebook-cell:/d%3A/ineuron/actual%20assignments/notebook%20file/Assignment%205.ipynb#W4sZmlsZQ%3D%3D?line=3'>4</a>\u001b[0m \n\u001b[0;32m      <a href='vscode-notebook-cell:/d%3A/ineuron/actual%20assignments/notebook%20file/Assignment%205.ipynb#W4sZmlsZQ%3D%3D?line=4'>5</a>\u001b[0m \u001b[39m\"\"\"\u001b[39;00m\n\u001b[0;32m      <a href='vscode-notebook-cell:/d%3A/ineuron/actual%20assignments/notebook%20file/Assignment%205.ipynb#W4sZmlsZQ%3D%3D?line=5'>6</a>\u001b[0m spam \u001b[39m=\u001b[39m {\u001b[39m'\u001b[39m\u001b[39mbar\u001b[39m\u001b[39m'\u001b[39m: \u001b[39m100\u001b[39m}\n\u001b[1;32m----> <a href='vscode-notebook-cell:/d%3A/ineuron/actual%20assignments/notebook%20file/Assignment%205.ipynb#W4sZmlsZQ%3D%3D?line=6'>7</a>\u001b[0m spam[\u001b[39m'\u001b[39;49m\u001b[39mfoo\u001b[39;49m\u001b[39m'\u001b[39;49m]\n",
      "\u001b[1;31mKeyError\u001b[0m: 'foo'"
     ]
    }
   ],
   "source": [
    "# 4. What happens if you try to access spam['foo'] if spam is {'bar': 100}?\n",
    "\"\"\"\n",
    "Ans : We will encounter key error.\n",
    "\n",
    "\"\"\"\n",
    "spam = {'bar': 100}\n",
    "spam['foo']"
   ]
  },
  {
   "cell_type": "code",
   "execution_count": 8,
   "metadata": {},
   "outputs": [
    {
     "name": "stdout",
     "output_type": "stream",
     "text": [
      "True\n",
      "True\n"
     ]
    }
   ],
   "source": [
    "# 5. If a dictionary is stored in spam, what is the difference between the expressions 'cat' in spam and 'cat' in spam.keys()?\n",
    "\"\"\" \n",
    "Ans : Both expression with work and will return True since the condition satisfies. The 1st condition will check if key is in spam dictionary without defining to look in key elements of dictionarty. \n",
    "Where as if we want to check keys explicitely in keys of dictionary we can use 2nd conditional statement.\n",
    "\"\"\"\n",
    "spam = {'cat': 100}\n",
    "print(\"cat\" in spam)\n",
    "print('cat' in spam.keys())"
   ]
  },
  {
   "cell_type": "code",
   "execution_count": 10,
   "metadata": {},
   "outputs": [
    {
     "name": "stdout",
     "output_type": "stream",
     "text": [
      "True\n",
      "False\n"
     ]
    }
   ],
   "source": [
    "# 6. If a dictionary is stored in spam, what is the difference between the expressions 'cat' in spam and 'cat' in spam.values()?\n",
    "\"\"\" \n",
    "Ans : 1st condition will return True as it satisfies the condition. In second condition the cat key is set with value 100. The statement will return False as it will target for values of dictionary. Meanig it will check for valuse and can be used if we want to work with dictonary values.\n",
    "\"\"\"\n",
    "spam = {'cat': 100}\n",
    "print(\"cat\" in spam)\n",
    "print('cat' in spam.values())"
   ]
  },
  {
   "cell_type": "code",
   "execution_count": 27,
   "metadata": {},
   "outputs": [
    {
     "name": "stdout",
     "output_type": "stream",
     "text": [
      "{'color': 'black'}\n"
     ]
    }
   ],
   "source": [
    "# 7. What is a shortcut for the following code?\n",
    "spam : {}\n",
    "if 'color' not in spam:\n",
    "    spam['color'] = 'black'\n",
    "\n",
    "\n",
    "# Ans : we can use setdefault function to pass pair values to dictionary\n",
    "spam.setdefault('color','black')\n",
    "print(spam)"
   ]
  },
  {
   "cell_type": "code",
   "execution_count": 40,
   "metadata": {},
   "outputs": [
    {
     "name": "stdout",
     "output_type": "stream",
     "text": [
      "--------------------------------------------------\n",
      "{'a': 1, 'b': 2, 'c': 3, 's3': {'d': 4, 'e': 5, 'f': 6}}\n",
      "--------------------------------------------------\n",
      "a: 1\n",
      "b: 2\n",
      "c: 3\n",
      "s3:\n",
      "  d: 4\n",
      "  e: 5\n",
      "  f: 6\n",
      "\n",
      "--------------------------------------------------\n",
      "{\n",
      "    \"a\": 1,\n",
      "    \"b\": 2,\n",
      "    \"c\": 3,\n",
      "    \"s3\": {\n",
      "        \"d\": 4,\n",
      "        \"e\": 5,\n",
      "        \"f\": 6\n",
      "    }\n",
      "}\n",
      "--------------------------------------------------\n"
     ]
    }
   ],
   "source": [
    "# 8. How do you \"pretty print\" dictionary values using which module and function?\n",
    "\"\"\" \n",
    "Ans :\n",
    "Pretty print is the way we can present dictonary in more formated way. We can basically represent dictonary in more readable format.\n",
    "we can pretty print a dictionary using three functions: \n",
    "    1. by using pprint() function of pprint module\n",
    "        pprint() function doesnot prettify nested dictionaries\n",
    "    2. by using dumps() method of yaml module\n",
    "    3. by using dumps() method of json module\n",
    "\"\"\"\n",
    "\n",
    "s2 = {\"a\":1,\"b\":2,\"c\":3,\"s3\":{\"d\":4,\"e\":5,\"f\":6}}\n",
    "print(\"--------------------------------------------------\")\n",
    "from pprint import pprint\n",
    "pprint(s2)\n",
    "print(\"--------------------------------------------------\")\n",
    "import yaml\n",
    "s4 = yaml.dump(s2)\n",
    "print(s4)\n",
    "print(\"--------------------------------------------------\")\n",
    "import json\n",
    "s5 = json.dumps(s2, indent=4)\n",
    "print(s5)\n",
    "print(\"--------------------------------------------------\")\n"
   ]
  }
 ],
 "metadata": {
  "kernelspec": {
   "display_name": "Python 3.9.12 ('base')",
   "language": "python",
   "name": "python3"
  },
  "language_info": {
   "codemirror_mode": {
    "name": "ipython",
    "version": 3
   },
   "file_extension": ".py",
   "mimetype": "text/x-python",
   "name": "python",
   "nbconvert_exporter": "python",
   "pygments_lexer": "ipython3",
   "version": "3.9.12"
  },
  "orig_nbformat": 4,
  "vscode": {
   "interpreter": {
    "hash": "ec8ce567f215544ef5385698679ad00f7108804f072be75f9d6841a4394852e3"
   }
  }
 },
 "nbformat": 4,
 "nbformat_minor": 2
}
