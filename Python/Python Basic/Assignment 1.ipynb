{
 "cells": [
  {
   "cell_type": "code",
   "execution_count": null,
   "metadata": {},
   "outputs": [],
   "source": [
    "'''\n",
    "Q 1. In the below elements which of them are values or an expression? eg:- values can be integer or string and expressions will be mathematical operators.\n",
    "* \n",
    "'hello'\n",
    "-87.8\n",
    "- \n",
    "/ \n",
    "+\t\n",
    "6 \n",
    "'''\n",
    "'''\n",
    "Ans: \n",
    "\n",
    "1. 'hello' - string value \n",
    "2. -87.8 - float value\n",
    "3. - - Arithmatical operator expression\n",
    "4. / - Arithmatic operator expression \n",
    "5. + - Arithmatic operator expression\n",
    "6. 6 - integer value\n",
    "'''"
   ]
  },
  {
   "cell_type": "code",
   "execution_count": 17,
   "metadata": {},
   "outputs": [
    {
     "name": "stdout",
     "output_type": "stream",
     "text": [
      "Hello there!\n",
      "variables we have defined:\n",
      "a = \"Apple\"\n",
      "b = 3.14\n",
      "\n",
      "--------------------------------------------------------\n",
      "variable a is having data type as <class 'str'>\n",
      "--------------------------------------------------------\n",
      "variable b is having data type as <class 'float'>\n",
      "------------------------------------------------------\n"
     ]
    }
   ],
   "source": [
    "# Q2. What is the difference between string and variable?\n",
    "\n",
    "'''\n",
    "Ans:\n",
    "The variable is use to store values and later can be used inside the code to perform certain operations. In simple words we can say the values we feed to code(or machine) to get deserve output from it. This helps to communicate with the computer.\n",
    "On the other hand string are words and sentences defined inside inverted commas(single/double)'' or \"\". It can be useed to intract and to get certain inputs.\n",
    "please conside the example below :\n",
    "\n",
    "'''\n",
    "\n",
    "print(\"Hello there!\")\n",
    "\n",
    "a = \"Apple\"\n",
    "b = 3.14\n",
    "\n",
    "print('''variables we have defined:\n",
    "a = \"Apple\"\n",
    "b = 3.14\n",
    "''')\n",
    "\n",
    "print(\"--------------------------------------------------------\")\n",
    "\n",
    "print(f\"variable a is having data type as {type(a)}\")\n",
    "\n",
    "print(\"--------------------------------------------------------\")\n",
    "\n",
    "print(f\"variable b is having data type as {type(b)}\")\n",
    "\n",
    "print(\"------------------------------------------------------\")\n"
   ]
  },
  {
   "cell_type": "code",
   "execution_count": null,
   "metadata": {},
   "outputs": [],
   "source": [
    "# Q3. Describe three different data types.\n",
    "'''\n",
    "Ans: \n",
    "float : contain number with decimal values ex. 132.22 \n",
    "\n",
    "integer : contains number without decimal values ex 132\n",
    "\n",
    "string : contains words , charactors and sentences ex . \"this is an example\"\n",
    "\n",
    "boolean : contains true(1) and false(0) values ex. True or False\n",
    "\n",
    "complex : contains complex values ex. 3+2j\n",
    "'''"
   ]
  },
  {
   "cell_type": "code",
   "execution_count": 38,
   "metadata": {},
   "outputs": [
    {
     "name": "stdout",
     "output_type": "stream",
     "text": [
      "50\n"
     ]
    }
   ],
   "source": [
    "# Q4. What is an expression made up of? What do all expressions do?\n",
    "\n",
    "\"\"\"\n",
    "Ans:\n",
    "\n",
    "In simple words expressions are used to evaluate and get single value as an output by performing an operations.\n",
    "\n",
    "like in example below a arithmatic addition operation is performed to get sum of 2 values.\n",
    "\n",
    "\"\"\"\n",
    "#example: Sum of two numbers\n",
    "a = 20\n",
    "b = 30\n",
    "c = a+b\n",
    "print(c)\n",
    "\n"
   ]
  },
  {
   "cell_type": "code",
   "execution_count": null,
   "metadata": {},
   "outputs": [],
   "source": [
    "# Q5. This assignment statements, like spam = 10. What is the difference between an expression and a statement?\n",
    "\n",
    "''' \n",
    "Ans:\n",
    "\n",
    "spam = 10 ---> the value 10 is been assigned to a variable defined with lable name as 'spam' its an assignment statement.\n",
    "\n",
    "Expression contains combination of operators (like +, -, *, /, >, < etc) on variables to get certain output from it. Expressions need to be evaluated for generating output.\n",
    "\n",
    "Statements can be used to define values to a variable i.e assignment statement. Other type is while & for statements for working with loops in python.\n",
    "\n",
    "'''\n"
   ]
  },
  {
   "cell_type": "code",
   "execution_count": 23,
   "metadata": {},
   "outputs": [
    {
     "name": "stdout",
     "output_type": "stream",
     "text": [
      "It contains assigned value of int data type:\n",
      "22\n",
      "Since the new arithmatic operation performed is not stored in any variable it will not return new value. But we can expect an incriment if stored i.e 23\n"
     ]
    }
   ],
   "source": [
    "# Q6. After running the following code, what does the variable bacon contain?\n",
    "bacon = 22\n",
    "bacon + 1\n",
    "\n",
    "print(\"It contains assigned value of int data type:\") \n",
    "print(bacon)\n",
    "print(f\"Since the new arithmatic operation performed is not stored in any variable it will not return new value. But we can expect an incriment if stored i.e {bacon + 1}\")"
   ]
  },
  {
   "cell_type": "code",
   "execution_count": 26,
   "metadata": {},
   "outputs": [
    {
     "name": "stdout",
     "output_type": "stream",
     "text": [
      "In first line the concatination is happening and output will be : spamspamspam\n",
      "In second line the arithmatic operation is performed on string returns same value : spamspamspam\n"
     ]
    }
   ],
   "source": [
    "# Q7. What should the values of the following two terms be?\n",
    "'spam' + 'spamspam'\n",
    "'spam' * 3\n",
    "\n",
    "print(f\"In first line the concatination is happening and output will be : {'spam' + 'spamspam'}\")\n",
    "\n",
    "print(f\"In second line the arithmatic operation is performed on string returns same value : {'spam' * 3}\")\n",
    "\n"
   ]
  },
  {
   "cell_type": "code",
   "execution_count": null,
   "metadata": {},
   "outputs": [],
   "source": [
    "# Q8. Why is eggs a valid variable name while 100 is invalid?\n",
    "\n",
    "'''\n",
    "\n",
    "Ans:\n",
    "\n",
    "\"eggs\" is not a defined function or method inside python libraries. And we can use it to define and store certain values to re-use later in program whereever required as an variable. But word like \"AND\" \"is\" \"as\" \"OR\" etc can not be used.\n",
    "\n",
    "\"100\" is an integer value and can not be used for assigning it to a variable. python always interpreat this as an integer number.\n",
    "\n",
    "'''\n"
   ]
  },
  {
   "cell_type": "code",
   "execution_count": null,
   "metadata": {},
   "outputs": [],
   "source": [
    "# Q9. What three functions can be used to get the integer, floating-point number, or string version of a value?\n",
    "\n",
    "#Ans: \n",
    "# Function to get the integer value\n",
    "int()\n",
    "# Function to get the float value\n",
    "float()\n",
    "# Function to get the string value\n",
    "str()"
   ]
  },
  {
   "cell_type": "code",
   "execution_count": 30,
   "metadata": {},
   "outputs": [
    {
     "data": {
      "text/plain": [
       "'\\nAns:\\n\\nThe part covered in \\'\\' is interpreated as string. Where as the value 99 is treated as integer number. \\nPython does not allow concinations of numbers with string.\\n\\nit can be fixed by converting it to same data type.\\n\\'I have eaten \\' + \\'99\\' + \\' burritos.\\'\\n\\nor else by using print function:\\nprint(f\"\\'I have eaten \\' + {99} + \\' burritos.\\')\\n\\n\\n'"
      ]
     },
     "execution_count": 30,
     "metadata": {},
     "output_type": "execute_result"
    }
   ],
   "source": [
    "# Q10. Why does this expression cause an error? How can you fix it?\n",
    "# 'I have eaten ' + 99 + ' burritos.'\n",
    "\n",
    "\"\"\"\n",
    "Ans:\n",
    "\n",
    "The part covered in '' is interpreated as string. Where as the value 99 is treated as integer number. \n",
    "Python does not allow concatenation of numbers with string.\n",
    "\n",
    "it can be fixed by converting it to same data type.\n",
    "'I have eaten ' + '99' + ' burritos.'\n",
    "\n",
    "\n",
    "\"\"\""
   ]
  },
  {
   "cell_type": "code",
   "execution_count": null,
   "metadata": {},
   "outputs": [],
   "source": []
  }
 ],
 "metadata": {
  "kernelspec": {
   "display_name": "Python 3.9.12 ('base')",
   "language": "python",
   "name": "python3"
  },
  "language_info": {
   "codemirror_mode": {
    "name": "ipython",
    "version": 3
   },
   "file_extension": ".py",
   "mimetype": "text/x-python",
   "name": "python",
   "nbconvert_exporter": "python",
   "pygments_lexer": "ipython3",
   "version": "3.9.12"
  },
  "orig_nbformat": 4,
  "vscode": {
   "interpreter": {
    "hash": "ec8ce567f215544ef5385698679ad00f7108804f072be75f9d6841a4394852e3"
   }
  }
 },
 "nbformat": 4,
 "nbformat_minor": 2
}
