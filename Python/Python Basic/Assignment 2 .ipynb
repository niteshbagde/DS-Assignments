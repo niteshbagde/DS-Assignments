{
 "cells": [
  {
   "cell_type": "code",
   "execution_count": 1,
   "metadata": {},
   "outputs": [
    {
     "name": "stdout",
     "output_type": "stream",
     "text": [
      "False\n",
      "True\n"
     ]
    }
   ],
   "source": [
    "# Q1.What are the two values of the Boolean data type? How do you write them?\n",
    "\n",
    "\"\"\"\n",
    "Ans:\n",
    "\n",
    "The 2 values for the Boolean data type are TRUE (1) and FALSE(0). And it is written as True and False respectively.\n",
    "\n",
    "\"\"\"\n",
    "print(bool(0))\n",
    "print(bool(1))"
   ]
  },
  {
   "cell_type": "code",
   "execution_count": 2,
   "metadata": {},
   "outputs": [
    {
     "name": "stdout",
     "output_type": "stream",
     "text": [
      "True\n",
      "True\n",
      "False\n"
     ]
    }
   ],
   "source": [
    "# Q2. What are the three different types of Boolean operators?\n",
    "\"\"\"\n",
    "Ans: \n",
    "The 3 types of boolean operators are:\n",
    "1. and - when we want to evaluate 2 or more expression both of which satisfies if a>=b and a>=c.\n",
    "2. or - when we want to evaluate 2 or more expression either of which satisfies if A==1 or A==2.\n",
    "3. not - when we want to implement negation in code. None of which satisfies to continue further.\n",
    "\"\"\"\n",
    "print(30>20 and 20<30)\n",
    "print(30>20 or 20==30)\n",
    "print(not 20<30)\n"
   ]
  },
  {
   "cell_type": "code",
   "execution_count": 3,
   "metadata": {},
   "outputs": [
    {
     "name": "stdout",
     "output_type": "stream",
     "text": [
      "True False False False\n",
      "True True False True\n",
      "False True\n"
     ]
    }
   ],
   "source": [
    "# Q3. Make a list of each Boolean operator's truth tables (i.e. every possible combination of Boolean values for the operator and what it evaluate ).\n",
    "\n",
    "\"\"\"\n",
    "Ans:\n",
    "A. For and operator \n",
    "True and True = True\n",
    "True and False = False\n",
    "False and False = False\n",
    "False and True = False\n",
    "\n",
    "B. For or operator\n",
    "True or True = True\n",
    "True or False = True\n",
    "False or False = False\n",
    "False or True = True\n",
    "\n",
    "C. For not Operator\n",
    "not True = False\n",
    "not False = True\n",
    "\n",
    "\n",
    "\"\"\"\n",
    "print(True and True,True and False, False and False,False and True)\n",
    "print(True or True, True or False, False or False, False or True )\n",
    "print(not True, not False )\n"
   ]
  },
  {
   "cell_type": "code",
   "execution_count": 4,
   "metadata": {},
   "outputs": [
    {
     "name": "stdout",
     "output_type": "stream",
     "text": [
      "False False True False False True\n"
     ]
    }
   ],
   "source": [
    "# Q4. What are the values of the following expressions?\n",
    "'''\n",
    "Ans:\n",
    "1. (5 > 4) and (3 == 5)  # False\n",
    "2. not (5 > 4) # False\n",
    "3. (5 > 4) or (3 == 5) # True\n",
    "4. not ((5 > 4) or (3 == 5)) # False\n",
    "5. (True and True) and (True == False) # False\n",
    "6. (not False) or (not True) # True\n",
    "'''\n",
    "print((5 > 4) and (3 == 5) ,not (5 > 4), (5 > 4) or (3 == 5), not ((5 > 4) or (3 == 5)), (True and True) and (True == False), (not False) or (not True))"
   ]
  },
  {
   "cell_type": "code",
   "execution_count": 5,
   "metadata": {},
   "outputs": [
    {
     "data": {
      "text/plain": [
       "'\\nAns:\\nFollowing are the six comparison operators:\\n1. > - greater than\\n2. < - less than\\n3. == - equals to\\n4. != - not equal\\n5. >= - greater than equals to\\n6. <= - less than equals to\\n'"
      ]
     },
     "execution_count": 5,
     "metadata": {},
     "output_type": "execute_result"
    }
   ],
   "source": [
    "# Q5. What are the six comparison operators?\n",
    "'''\n",
    "Ans:\n",
    "Following are the six comparison operators:\n",
    "1. > - greater than\n",
    "2. < - less than\n",
    "3. == - equals to\n",
    "4. != - not equal\n",
    "5. >= - greater than equals to\n",
    "6. <= - less than equals to\n",
    "'''"
   ]
  },
  {
   "cell_type": "code",
   "execution_count": 6,
   "metadata": {},
   "outputs": [
    {
     "name": "stdout",
     "output_type": "stream",
     "text": [
      "True - value assigned to a is 20\n"
     ]
    }
   ],
   "source": [
    "# Q6. How do you tell the difference between the equal to and assignment operators?Describe a condition and when you would use one.\n",
    "'''\n",
    "Ans:\n",
    "\n",
    "The assignment operator is used to assign a value for a variable example - a=20\n",
    "The equals operator is used to check the equality of the elements of a variable. example - a==\n",
    "'''\n",
    "a = 20 # assignment operator\n",
    "\n",
    "if a == 20: # to check equality for variable with respect to value\n",
    "    print(\"True - value assigned to a is\", a)\n",
    "else:\n",
    "    print(False)"
   ]
  },
  {
   "cell_type": "code",
   "execution_count": 7,
   "metadata": {},
   "outputs": [
    {
     "name": "stdout",
     "output_type": "stream",
     "text": [
      "ham\n",
      "spam\n",
      "spam\n"
     ]
    }
   ],
   "source": [
    "# Q7. Identify the three blocks in this code:\n",
    "'''\n",
    "spam = 0\n",
    "if spam == 10:\n",
    "print('eggs')\n",
    "if spam > 5:\n",
    "print('bacon')\n",
    "else:\n",
    "print('ham')\n",
    "print('spam')\n",
    "print('spam')\n",
    "'''\n",
    "spam = 0\n",
    "if spam == 10:\n",
    "    print('eggs')\n",
    "    #This is block 1\n",
    "if spam > 5:\n",
    "    print('bacon')\n",
    "    #This is block 2\n",
    "else:\n",
    "    print('ham')\n",
    "    #This is block 3\n",
    "print('spam')\n",
    "print('spam')\n",
    "\n",
    "\n"
   ]
  },
  {
   "cell_type": "code",
   "execution_count": 8,
   "metadata": {},
   "outputs": [
    {
     "name": "stdout",
     "output_type": "stream",
     "text": [
      "Hello \n"
     ]
    }
   ],
   "source": [
    "# Q8. Write code that prints Hello if 1 is stored in spam, prints Howdy if 2 is stored in spam, and prints Greetings! if anything else is stored in spam.\n",
    "\n",
    "spam = int(input(\"input value: \"))\n",
    "\n",
    "if spam == 1:\n",
    "    print(\"Hello \")\n",
    "if spam == 2:\n",
    "    print(\"Howdy\")\n",
    "if spam != 1 and spam !=2:\n",
    "    print(\"Greetings!\")\n"
   ]
  },
  {
   "cell_type": "code",
   "execution_count": 9,
   "metadata": {},
   "outputs": [],
   "source": [
    "# Q9.If your programme is stuck in an endless loop, what keys you’ll press?\n",
    "\n",
    "#Ans :  press ctr+c to stop \n",
    "\n"
   ]
  },
  {
   "cell_type": "code",
   "execution_count": 10,
   "metadata": {},
   "outputs": [
    {
     "data": {
      "text/plain": [
       "'\\nAns :\\n\\nBreak : This statement will stop the further exection of code and will instantly end the code block in while and for loop.\\n\\n\\nContinue : This statement will skip the perticular condition and will continue the further execution of iteration in while and for loop.\\n\\n'"
      ]
     },
     "execution_count": 10,
     "metadata": {},
     "output_type": "execute_result"
    }
   ],
   "source": [
    "# Q10. How can you tell the difference between break and continue?\n",
    "\n",
    "\"\"\"\n",
    "Ans :\n",
    "\n",
    "Break : This statement will stop the further exection of code and will instantly end the code block in while and for loop.\n",
    "\n",
    "\n",
    "Continue : This statement will skip the perticular condition and will continue the further execution of iteration in while and for loop.\n",
    "\n",
    "\"\"\"\n",
    "\n"
   ]
  },
  {
   "cell_type": "code",
   "execution_count": 11,
   "metadata": {},
   "outputs": [
    {
     "name": "stdout",
     "output_type": "stream",
     "text": [
      "0\n",
      "1\n",
      "2\n",
      "3\n",
      "4\n",
      "5\n",
      "6\n",
      "7\n",
      "8\n",
      "9\n",
      "0\n",
      "1\n",
      "2\n",
      "3\n",
      "4\n",
      "5\n",
      "6\n",
      "7\n",
      "8\n",
      "9\n",
      "0\n",
      "1\n",
      "2\n",
      "3\n",
      "4\n",
      "5\n",
      "6\n",
      "7\n",
      "8\n",
      "9\n"
     ]
    }
   ],
   "source": [
    "# Q11. In a for loop, what is the difference between range(10), range(0, 10), and range(0, 10, 1)?\n",
    "\n",
    "\"\"\" \n",
    "Ans : \n",
    "\n",
    "range(10) : range will be defined to value 10 basically having length as from 0 to 9 // value 10 is upper end]\n",
    "\n",
    "range(0,10) : range will start from defined value 0  and end at 9 [from 0 to 9]\n",
    "\n",
    "range(0,10,1): range will start from 0 and ends at 9 with having step interval of 1. [from 0 to 9 and step count 1]\n",
    "\n",
    "\"\"\"\n",
    "\n",
    "for i in range(10):\n",
    "    print(i)\n",
    "    # output = 0 1 2 3 4 5 6 7 8 9 \n",
    "for i in range(0,10):\n",
    "    print(i)\n",
    "    # output = 0 1 2 3 4 5 6 7 8 9 \n",
    "for i in range(0,10,1):\n",
    "    print(i)\n",
    "    # output = 0 1 2 3 4 5 6 7 8 9 "
   ]
  },
  {
   "cell_type": "code",
   "execution_count": 12,
   "metadata": {},
   "outputs": [
    {
     "name": "stdout",
     "output_type": "stream",
     "text": [
      "1\n",
      "2\n",
      "3\n",
      "4\n",
      "5\n",
      "6\n",
      "7\n",
      "8\n",
      "9\n",
      "10\n",
      "1\n",
      "2\n",
      "3\n",
      "4\n",
      "5\n",
      "6\n",
      "7\n",
      "8\n",
      "9\n",
      "10\n"
     ]
    }
   ],
   "source": [
    "# Q12. Write a short program that prints the numbers 1 to 10 using a for loop. Then write an equivalent program that prints the numbers 1 to 10 using a while loop.\n",
    "\n",
    "for i in range(1,11):\n",
    "    print(i)\n",
    "\n",
    "i = 1\n",
    "while(i<=10):\n",
    "    print(i)\n",
    "    i += 1\n"
   ]
  },
  {
   "cell_type": "code",
   "execution_count": 13,
   "metadata": {},
   "outputs": [
    {
     "data": {
      "text/plain": [
       "' \\nAns: \\nspam.becon()\\nfrom spam import becon as bec\\nbec()\\n'"
      ]
     },
     "execution_count": 13,
     "metadata": {},
     "output_type": "execute_result"
    }
   ],
   "source": [
    "# Q13. If you had a function named bacon() inside a module named spam, how would you call it after importing spam?\n",
    "\"\"\" \n",
    "Ans: \n",
    "spam.becon()\n",
    "from spam import becon as bec\n",
    "bec()\n",
    "\"\"\""
   ]
  }
 ],
 "metadata": {
  "kernelspec": {
   "display_name": "Python 3.9.12 ('base')",
   "language": "python",
   "name": "python3"
  },
  "language_info": {
   "codemirror_mode": {
    "name": "ipython",
    "version": 3
   },
   "file_extension": ".py",
   "mimetype": "text/x-python",
   "name": "python",
   "nbconvert_exporter": "python",
   "pygments_lexer": "ipython3",
   "version": "3.9.12"
  },
  "orig_nbformat": 4,
  "vscode": {
   "interpreter": {
    "hash": "ec8ce567f215544ef5385698679ad00f7108804f072be75f9d6841a4394852e3"
   }
  }
 },
 "nbformat": 4,
 "nbformat_minor": 2
}
